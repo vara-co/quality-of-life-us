{
 "cells": [
  {
   "cell_type": "markdown",
   "id": "e9934918-4309-4b06-a95a-5600cffb94b0",
   "metadata": {},
   "source": [
    "# Analysis | Quality of Life per US State"
   ]
  },
  {
   "cell_type": "markdown",
   "id": "11dbc0e2-7c5c-4bd8-8291-54e821fef18a",
   "metadata": {},
   "source": [
    "#### The goal of this analysis is to find some insights regarding the quality of life per state in the United States of America\n",
    "Dataset Resource: https://www.kaggle.com/datasets/msjahid/statewise-quality-of-life-index-2024"
   ]
  },
  {
   "cell_type": "code",
   "execution_count": 60,
   "id": "50320f0a-952c-4521-93c4-b90eca302751",
   "metadata": {},
   "outputs": [],
   "source": [
    "# Include this line to make plots interactive\n",
    "%matplotlib notebook"
   ]
  },
  {
   "cell_type": "code",
   "execution_count": 61,
   "id": "d13cebce-c6ce-4a0b-a11a-149ccd4fc15e",
   "metadata": {},
   "outputs": [],
   "source": [
    "# Import dependencies\n",
    "import pandas as pd\n",
    "import numpy as np\n",
    "import matplotlib.pyplot as plt\n"
   ]
  },
  {
   "cell_type": "code",
   "execution_count": 62,
   "id": "50518911-20ab-4399-a938-7383a86e02dc",
   "metadata": {},
   "outputs": [
    {
     "data": {
      "text/html": [
       "<div>\n",
       "<style scoped>\n",
       "    .dataframe tbody tr th:only-of-type {\n",
       "        vertical-align: middle;\n",
       "    }\n",
       "\n",
       "    .dataframe tbody tr th {\n",
       "        vertical-align: top;\n",
       "    }\n",
       "\n",
       "    .dataframe thead th {\n",
       "        text-align: right;\n",
       "    }\n",
       "</style>\n",
       "<table border=\"1\" class=\"dataframe\">\n",
       "  <thead>\n",
       "    <tr style=\"text-align: right;\">\n",
       "      <th></th>\n",
       "      <th>state</th>\n",
       "      <th>QualityOfLifeTotalScore</th>\n",
       "      <th>QualityOfLifeQualityOfLife</th>\n",
       "      <th>QualityOfLifeAffordability</th>\n",
       "      <th>QualityOfLifeEconomy</th>\n",
       "      <th>QualityOfLifeEducationAndHealth</th>\n",
       "      <th>QualityOfLifeSafety</th>\n",
       "    </tr>\n",
       "  </thead>\n",
       "  <tbody>\n",
       "    <tr>\n",
       "      <th>0</th>\n",
       "      <td>Alabama</td>\n",
       "      <td>45.61</td>\n",
       "      <td>40</td>\n",
       "      <td>1</td>\n",
       "      <td>40</td>\n",
       "      <td>48</td>\n",
       "      <td>32</td>\n",
       "    </tr>\n",
       "    <tr>\n",
       "      <th>1</th>\n",
       "      <td>Alaska</td>\n",
       "      <td>40.93</td>\n",
       "      <td>50</td>\n",
       "      <td>42</td>\n",
       "      <td>22</td>\n",
       "      <td>30</td>\n",
       "      <td>45</td>\n",
       "    </tr>\n",
       "    <tr>\n",
       "      <th>2</th>\n",
       "      <td>Arizona</td>\n",
       "      <td>48.31</td>\n",
       "      <td>21</td>\n",
       "      <td>25</td>\n",
       "      <td>14</td>\n",
       "      <td>39</td>\n",
       "      <td>40</td>\n",
       "    </tr>\n",
       "    <tr>\n",
       "      <th>3</th>\n",
       "      <td>Arkansas</td>\n",
       "      <td>42.42</td>\n",
       "      <td>46</td>\n",
       "      <td>4</td>\n",
       "      <td>34</td>\n",
       "      <td>45</td>\n",
       "      <td>47</td>\n",
       "    </tr>\n",
       "    <tr>\n",
       "      <th>4</th>\n",
       "      <td>California</td>\n",
       "      <td>52.03</td>\n",
       "      <td>2</td>\n",
       "      <td>50</td>\n",
       "      <td>15</td>\n",
       "      <td>24</td>\n",
       "      <td>27</td>\n",
       "    </tr>\n",
       "  </tbody>\n",
       "</table>\n",
       "</div>"
      ],
      "text/plain": [
       "        state  QualityOfLifeTotalScore  QualityOfLifeQualityOfLife  \\\n",
       "0     Alabama                    45.61                          40   \n",
       "1      Alaska                    40.93                          50   \n",
       "2     Arizona                    48.31                          21   \n",
       "3    Arkansas                    42.42                          46   \n",
       "4  California                    52.03                           2   \n",
       "\n",
       "   QualityOfLifeAffordability  QualityOfLifeEconomy  \\\n",
       "0                           1                    40   \n",
       "1                          42                    22   \n",
       "2                          25                    14   \n",
       "3                           4                    34   \n",
       "4                          50                    15   \n",
       "\n",
       "   QualityOfLifeEducationAndHealth  QualityOfLifeSafety  \n",
       "0                               48                   32  \n",
       "1                               30                   45  \n",
       "2                               39                   40  \n",
       "3                               45                   47  \n",
       "4                               24                   27  "
      ]
     },
     "execution_count": 62,
     "metadata": {},
     "output_type": "execute_result"
    }
   ],
   "source": [
    "# Read in your csv:\n",
    "df = pd.read_csv(\"Resources/qol_states_2024.csv\")  \n",
    "\n",
    "# Show dataframe first 5 row sample\n",
    "df.head()\n"
   ]
  },
  {
   "cell_type": "code",
   "execution_count": 63,
   "id": "b294d7b7-e92c-44c0-b30e-dc06d4939fd8",
   "metadata": {},
   "outputs": [
    {
     "name": "stdout",
     "output_type": "stream",
     "text": [
      "<class 'pandas.core.frame.DataFrame'>\n",
      "RangeIndex: 50 entries, 0 to 49\n",
      "Data columns (total 7 columns):\n",
      " #   Column                           Non-Null Count  Dtype  \n",
      "---  ------                           --------------  -----  \n",
      " 0   state                            50 non-null     object \n",
      " 1   QualityOfLifeTotalScore          50 non-null     float64\n",
      " 2   QualityOfLifeQualityOfLife       50 non-null     int64  \n",
      " 3   QualityOfLifeAffordability       50 non-null     int64  \n",
      " 4   QualityOfLifeEconomy             50 non-null     int64  \n",
      " 5   QualityOfLifeEducationAndHealth  50 non-null     int64  \n",
      " 6   QualityOfLifeSafety              50 non-null     int64  \n",
      "dtypes: float64(1), int64(5), object(1)\n",
      "memory usage: 2.9+ KB\n"
     ]
    }
   ],
   "source": [
    "# Show the data types and name of columns\n",
    "df.info()"
   ]
  },
  {
   "cell_type": "code",
   "execution_count": 64,
   "id": "9c8ead10-5e3f-4e18-9ab8-af2e472ba17e",
   "metadata": {},
   "outputs": [
    {
     "data": {
      "text/plain": [
       "['state',\n",
       " 'QualityOfLifeTotalScore',\n",
       " 'QualityOfLifeQualityOfLife',\n",
       " 'QualityOfLifeAffordability',\n",
       " 'QualityOfLifeEconomy',\n",
       " 'QualityOfLifeEducationAndHealth',\n",
       " 'QualityOfLifeSafety']"
      ]
     },
     "execution_count": 64,
     "metadata": {},
     "output_type": "execute_result"
    }
   ],
   "source": [
    "# Show name of columns as a list\n",
    "df.columns.to_list()"
   ]
  },
  {
   "cell_type": "code",
   "execution_count": 65,
   "id": "d53404df-f06b-40f0-b77a-64f9568ef2f4",
   "metadata": {},
   "outputs": [
    {
     "data": {
      "text/html": [
       "<div>\n",
       "<style scoped>\n",
       "    .dataframe tbody tr th:only-of-type {\n",
       "        vertical-align: middle;\n",
       "    }\n",
       "\n",
       "    .dataframe tbody tr th {\n",
       "        vertical-align: top;\n",
       "    }\n",
       "\n",
       "    .dataframe thead th {\n",
       "        text-align: right;\n",
       "    }\n",
       "</style>\n",
       "<table border=\"1\" class=\"dataframe\">\n",
       "  <thead>\n",
       "    <tr style=\"text-align: right;\">\n",
       "      <th></th>\n",
       "      <th>count</th>\n",
       "      <th>mean</th>\n",
       "      <th>std</th>\n",
       "      <th>min</th>\n",
       "      <th>25%</th>\n",
       "      <th>50%</th>\n",
       "      <th>75%</th>\n",
       "      <th>max</th>\n",
       "    </tr>\n",
       "  </thead>\n",
       "  <tbody>\n",
       "    <tr>\n",
       "      <th>QualityOfLifeTotalScore</th>\n",
       "      <td>50.0</td>\n",
       "      <td>51.8302</td>\n",
       "      <td>5.728049</td>\n",
       "      <td>39.77</td>\n",
       "      <td>48.43</td>\n",
       "      <td>52.16</td>\n",
       "      <td>56.735</td>\n",
       "      <td>62.65</td>\n",
       "    </tr>\n",
       "    <tr>\n",
       "      <th>QualityOfLifeQualityOfLife</th>\n",
       "      <td>50.0</td>\n",
       "      <td>25.5000</td>\n",
       "      <td>14.577380</td>\n",
       "      <td>1.00</td>\n",
       "      <td>13.25</td>\n",
       "      <td>25.50</td>\n",
       "      <td>37.750</td>\n",
       "      <td>50.00</td>\n",
       "    </tr>\n",
       "    <tr>\n",
       "      <th>QualityOfLifeAffordability</th>\n",
       "      <td>50.0</td>\n",
       "      <td>25.5000</td>\n",
       "      <td>14.577380</td>\n",
       "      <td>1.00</td>\n",
       "      <td>13.25</td>\n",
       "      <td>25.50</td>\n",
       "      <td>37.750</td>\n",
       "      <td>50.00</td>\n",
       "    </tr>\n",
       "    <tr>\n",
       "      <th>QualityOfLifeEconomy</th>\n",
       "      <td>50.0</td>\n",
       "      <td>25.5000</td>\n",
       "      <td>14.577380</td>\n",
       "      <td>1.00</td>\n",
       "      <td>13.25</td>\n",
       "      <td>25.50</td>\n",
       "      <td>37.750</td>\n",
       "      <td>50.00</td>\n",
       "    </tr>\n",
       "    <tr>\n",
       "      <th>QualityOfLifeEducationAndHealth</th>\n",
       "      <td>50.0</td>\n",
       "      <td>25.5000</td>\n",
       "      <td>14.577380</td>\n",
       "      <td>1.00</td>\n",
       "      <td>13.25</td>\n",
       "      <td>25.50</td>\n",
       "      <td>37.750</td>\n",
       "      <td>50.00</td>\n",
       "    </tr>\n",
       "    <tr>\n",
       "      <th>QualityOfLifeSafety</th>\n",
       "      <td>50.0</td>\n",
       "      <td>25.5000</td>\n",
       "      <td>14.577380</td>\n",
       "      <td>1.00</td>\n",
       "      <td>13.25</td>\n",
       "      <td>25.50</td>\n",
       "      <td>37.750</td>\n",
       "      <td>50.00</td>\n",
       "    </tr>\n",
       "  </tbody>\n",
       "</table>\n",
       "</div>"
      ],
      "text/plain": [
       "                                 count     mean        std    min    25%  \\\n",
       "QualityOfLifeTotalScore           50.0  51.8302   5.728049  39.77  48.43   \n",
       "QualityOfLifeQualityOfLife        50.0  25.5000  14.577380   1.00  13.25   \n",
       "QualityOfLifeAffordability        50.0  25.5000  14.577380   1.00  13.25   \n",
       "QualityOfLifeEconomy              50.0  25.5000  14.577380   1.00  13.25   \n",
       "QualityOfLifeEducationAndHealth   50.0  25.5000  14.577380   1.00  13.25   \n",
       "QualityOfLifeSafety               50.0  25.5000  14.577380   1.00  13.25   \n",
       "\n",
       "                                   50%     75%    max  \n",
       "QualityOfLifeTotalScore          52.16  56.735  62.65  \n",
       "QualityOfLifeQualityOfLife       25.50  37.750  50.00  \n",
       "QualityOfLifeAffordability       25.50  37.750  50.00  \n",
       "QualityOfLifeEconomy             25.50  37.750  50.00  \n",
       "QualityOfLifeEducationAndHealth  25.50  37.750  50.00  \n",
       "QualityOfLifeSafety              25.50  37.750  50.00  "
      ]
     },
     "execution_count": 65,
     "metadata": {},
     "output_type": "execute_result"
    }
   ],
   "source": [
    "# Show statistical information\n",
    "df.describe().T"
   ]
  },
  {
   "cell_type": "code",
   "execution_count": 66,
   "id": "8a945f07-bf7f-4b56-958a-a49f677bfb5a",
   "metadata": {},
   "outputs": [
    {
     "data": {
      "text/plain": [
       "state                              0\n",
       "QualityOfLifeTotalScore            0\n",
       "QualityOfLifeQualityOfLife         0\n",
       "QualityOfLifeAffordability         0\n",
       "QualityOfLifeEconomy               0\n",
       "QualityOfLifeEducationAndHealth    0\n",
       "QualityOfLifeSafety                0\n",
       "dtype: int64"
      ]
     },
     "execution_count": 66,
     "metadata": {},
     "output_type": "execute_result"
    }
   ],
   "source": [
    "# Find null values in each column\n",
    "df.isna().sum()"
   ]
  },
  {
   "cell_type": "code",
   "execution_count": 67,
   "id": "4ce5947e-35d8-4ddf-a43b-91207855fbfe",
   "metadata": {},
   "outputs": [
    {
     "data": {
      "text/plain": [
       "(50, 7)"
      ]
     },
     "execution_count": 67,
     "metadata": {},
     "output_type": "execute_result"
    }
   ],
   "source": [
    "# See the shape of your dataset (this is to find out if data is balanced and for correlations)\n",
    "df.shape\n"
   ]
  },
  {
   "cell_type": "code",
   "execution_count": 68,
   "id": "c575a311-72a6-4ef3-91c7-a18cf9a969af",
   "metadata": {},
   "outputs": [
    {
     "data": {
      "text/plain": [
       "50"
      ]
     },
     "execution_count": 68,
     "metadata": {},
     "output_type": "execute_result"
    }
   ],
   "source": [
    "# Get unique values of a particular column\n",
    "df['state'].nunique()\n"
   ]
  },
  {
   "cell_type": "code",
   "execution_count": 69,
   "id": "87aff8d8-35be-42c8-9da6-d057102285c1",
   "metadata": {},
   "outputs": [
    {
     "data": {
      "text/plain": [
       "array(['Alabama', 'Alaska', 'Arizona', 'Arkansas', 'California',\n",
       "       'Colorado', 'Connecticut', 'Delaware', 'Florida', 'Georgia',\n",
       "       'Hawaii', 'Idaho', 'Illinois', 'Indiana', 'Iowa', 'Kansas',\n",
       "       'Kentucky', 'Louisiana', 'Maine', 'Maryland', 'Massachusetts',\n",
       "       'Michigan', 'Minnesota', 'Mississippi', 'Missouri', 'Montana',\n",
       "       'Nebraska', 'Nevada', 'New Hampshire', 'New Jersey', 'New Mexico',\n",
       "       'New York', 'North Carolina', 'North Dakota', 'Ohio', 'Oklahoma',\n",
       "       'Oregon', 'Pennsylvania', 'Rhode Island', 'South Carolina',\n",
       "       'South Dakota', 'Tennessee', 'Texas', 'Utah', 'Vermont',\n",
       "       'Virginia', 'Washington', 'West Virginia', 'Wisconsin', 'Wyoming'],\n",
       "      dtype=object)"
      ]
     },
     "execution_count": 69,
     "metadata": {},
     "output_type": "execute_result"
    }
   ],
   "source": [
    "# Get unique values of a particular column\n",
    "df['state'].unique()"
   ]
  },
  {
   "cell_type": "code",
   "execution_count": 70,
   "id": "995420fc-b583-4775-9286-0c095ec065f7",
   "metadata": {},
   "outputs": [
    {
     "data": {
      "text/plain": [
       "array([45.61, 40.93, 48.31, 42.42, 52.03, 53.37, 52.21, 52.33, 58.07,\n",
       "       50.76, 47.46, 58.73, 55.47, 49.4 , 55.37, 52.47, 46.39, 41.74,\n",
       "       57.55, 54.4 , 62.65, 50.87, 57.99, 39.77, 48.79, 53.75, 53.08,\n",
       "       47.58, 58.25, 62.01, 42.51, 60.64, 51.51, 54.17, 49.32, 43.82,\n",
       "       48.97, 56.42, 51.65, 43.8 , 53.13, 48.85, 49.  , 56.84, 57.52,\n",
       "       52.11, 46.84, 57.92, 58.  ])"
      ]
     },
     "execution_count": 70,
     "metadata": {},
     "output_type": "execute_result"
    }
   ],
   "source": [
    "# Get unique values of a particular column\n",
    "df['QualityOfLifeTotalScore'].unique()"
   ]
  },
  {
   "cell_type": "markdown",
   "id": "9807aca4-7548-469c-bc1f-209bdd0397c4",
   "metadata": {},
   "source": [
    "#### Column values for the following were ranks from 1 to 50, which is the number of states in this dataset: \n",
    "##### QualityOfLifeQualityOfLife, \n",
    "##### QualityOfLifeAffordability, \n",
    "##### QualityOfLifeEconomy, \n",
    "##### QualityOfLifeEducationAndHealth, \n",
    "##### and QualityOfLifeSafety\n",
    "This was confirmed by using the df['column_name'].unique() to verify there weren't any duplicate values in the ranking."
   ]
  },
  {
   "cell_type": "markdown",
   "id": "faf76aed-b3ef-49b6-b455-27dea5390c96",
   "metadata": {},
   "source": [
    "### Top 10 States with the best and worst Quality of Life"
   ]
  },
  {
   "cell_type": "code",
   "execution_count": 1,
   "id": "34abe067-bcae-4ad0-8374-278c3554d301",
   "metadata": {},
   "outputs": [],
   "source": [
    "# Work on a function that does the same as the code below, to avoid DRY"
   ]
  },
  {
   "cell_type": "code",
   "execution_count": 95,
   "id": "14dbceda-d1f5-4fdd-bc5c-f53c8462fd9b",
   "metadata": {},
   "outputs": [
    {
     "name": "stdout",
     "output_type": "stream",
     "text": [
      "Top 10 states for Best Quality of Life: \n"
     ]
    },
    {
     "data": {
      "text/html": [
       "<div>\n",
       "<style scoped>\n",
       "    .dataframe tbody tr th:only-of-type {\n",
       "        vertical-align: middle;\n",
       "    }\n",
       "\n",
       "    .dataframe tbody tr th {\n",
       "        vertical-align: top;\n",
       "    }\n",
       "\n",
       "    .dataframe thead th {\n",
       "        text-align: right;\n",
       "    }\n",
       "</style>\n",
       "<table border=\"1\" class=\"dataframe\">\n",
       "  <thead>\n",
       "    <tr style=\"text-align: right;\">\n",
       "      <th></th>\n",
       "      <th>State</th>\n",
       "      <th>Total Score</th>\n",
       "    </tr>\n",
       "    <tr>\n",
       "      <th>Rank</th>\n",
       "      <th></th>\n",
       "      <th></th>\n",
       "    </tr>\n",
       "  </thead>\n",
       "  <tbody>\n",
       "    <tr>\n",
       "      <th>1</th>\n",
       "      <td>New York</td>\n",
       "      <td>60.64</td>\n",
       "    </tr>\n",
       "    <tr>\n",
       "      <th>2</th>\n",
       "      <td>California</td>\n",
       "      <td>52.03</td>\n",
       "    </tr>\n",
       "    <tr>\n",
       "      <th>3</th>\n",
       "      <td>Pennsylvania</td>\n",
       "      <td>56.42</td>\n",
       "    </tr>\n",
       "    <tr>\n",
       "      <th>4</th>\n",
       "      <td>Illinois</td>\n",
       "      <td>55.47</td>\n",
       "    </tr>\n",
       "    <tr>\n",
       "      <th>5</th>\n",
       "      <td>Florida</td>\n",
       "      <td>58.07</td>\n",
       "    </tr>\n",
       "    <tr>\n",
       "      <th>6</th>\n",
       "      <td>Massachusetts</td>\n",
       "      <td>62.65</td>\n",
       "    </tr>\n",
       "    <tr>\n",
       "      <th>7</th>\n",
       "      <td>New Jersey</td>\n",
       "      <td>62.01</td>\n",
       "    </tr>\n",
       "    <tr>\n",
       "      <th>8</th>\n",
       "      <td>Minnesota</td>\n",
       "      <td>57.99</td>\n",
       "    </tr>\n",
       "    <tr>\n",
       "      <th>9</th>\n",
       "      <td>Washington</td>\n",
       "      <td>52.11</td>\n",
       "    </tr>\n",
       "    <tr>\n",
       "      <th>10</th>\n",
       "      <td>Wisconsin</td>\n",
       "      <td>57.92</td>\n",
       "    </tr>\n",
       "  </tbody>\n",
       "</table>\n",
       "</div>"
      ],
      "text/plain": [
       "              State  Total Score\n",
       "Rank                            \n",
       "1          New York        60.64\n",
       "2        California        52.03\n",
       "3      Pennsylvania        56.42\n",
       "4          Illinois        55.47\n",
       "5           Florida        58.07\n",
       "6     Massachusetts        62.65\n",
       "7        New Jersey        62.01\n",
       "8         Minnesota        57.99\n",
       "9        Washington        52.11\n",
       "10        Wisconsin        57.92"
      ]
     },
     "execution_count": 95,
     "metadata": {},
     "output_type": "execute_result"
    }
   ],
   "source": [
    "# Top 10 Best States for overall 'Quality of life' (column QualityOfLifeQualityOfLife)\n",
    "top_10_qol = df.sort_values(by='QualityOfLifeQualityOfLife').head(10)\n",
    "\n",
    "# Add a column with ranking values 1 to 10\n",
    "top_10_qol['Rank'] = range(1,11)\n",
    "\n",
    "# Rename the 'state' column to 'State'\n",
    "top_10_qol.rename(columns={'state': 'State'}, inplace=True)\n",
    "\n",
    "# Rename the 'QualityOfLifeTotalScore' column to 'Total Score'\n",
    "top_10_qol.rename(columns={'QualityOfLifeTotalScore': 'Total Score'}, inplace=True)\n",
    "\n",
    "# Sort the Dataframe by the newly created 'Rank' column and then by the 'State' column\n",
    "top_10_qol = top_10_qol.sort_values(by=['Rank','State'])\n",
    "\n",
    "#Set the ranking as the index \n",
    "top_10_qol = top_10_qol.set_index('Rank')\n",
    "\n",
    "# Display the Dataframe\n",
    "print(\"Top 10 states for Best Quality of Life: \")\n",
    "top_10_qol[['State', 'Total Score']]"
   ]
  },
  {
   "cell_type": "code",
   "execution_count": 2,
   "id": "420dd5db-00e7-46e4-bd90-37691618cf63",
   "metadata": {},
   "outputs": [],
   "source": [
    "# Work on a function that does the same as the code below, to avoid DRY"
   ]
  },
  {
   "cell_type": "code",
   "execution_count": 96,
   "id": "5a01aea6-c12d-46eb-b6ba-49f2042f9266",
   "metadata": {},
   "outputs": [
    {
     "name": "stdout",
     "output_type": "stream",
     "text": [
      "Top 10 states for Worst Quality of Life: (With 1 being the worst at #50)\n"
     ]
    },
    {
     "data": {
      "text/html": [
       "<div>\n",
       "<style scoped>\n",
       "    .dataframe tbody tr th:only-of-type {\n",
       "        vertical-align: middle;\n",
       "    }\n",
       "\n",
       "    .dataframe tbody tr th {\n",
       "        vertical-align: top;\n",
       "    }\n",
       "\n",
       "    .dataframe thead th {\n",
       "        text-align: right;\n",
       "    }\n",
       "</style>\n",
       "<table border=\"1\" class=\"dataframe\">\n",
       "  <thead>\n",
       "    <tr style=\"text-align: right;\">\n",
       "      <th></th>\n",
       "      <th>State</th>\n",
       "      <th>Total Score</th>\n",
       "    </tr>\n",
       "    <tr>\n",
       "      <th>Rank</th>\n",
       "      <th></th>\n",
       "      <th></th>\n",
       "    </tr>\n",
       "  </thead>\n",
       "  <tbody>\n",
       "    <tr>\n",
       "      <th>1</th>\n",
       "      <td>Alaska</td>\n",
       "      <td>40.93</td>\n",
       "    </tr>\n",
       "    <tr>\n",
       "      <th>2</th>\n",
       "      <td>Mississippi</td>\n",
       "      <td>39.77</td>\n",
       "    </tr>\n",
       "    <tr>\n",
       "      <th>3</th>\n",
       "      <td>Delaware</td>\n",
       "      <td>52.33</td>\n",
       "    </tr>\n",
       "    <tr>\n",
       "      <th>4</th>\n",
       "      <td>Kentucky</td>\n",
       "      <td>46.39</td>\n",
       "    </tr>\n",
       "    <tr>\n",
       "      <th>5</th>\n",
       "      <td>Arkansas</td>\n",
       "      <td>42.42</td>\n",
       "    </tr>\n",
       "    <tr>\n",
       "      <th>6</th>\n",
       "      <td>West Virginia</td>\n",
       "      <td>46.84</td>\n",
       "    </tr>\n",
       "    <tr>\n",
       "      <th>7</th>\n",
       "      <td>Rhode Island</td>\n",
       "      <td>51.65</td>\n",
       "    </tr>\n",
       "    <tr>\n",
       "      <th>8</th>\n",
       "      <td>Hawaii</td>\n",
       "      <td>47.46</td>\n",
       "    </tr>\n",
       "    <tr>\n",
       "      <th>9</th>\n",
       "      <td>Vermont</td>\n",
       "      <td>57.52</td>\n",
       "    </tr>\n",
       "    <tr>\n",
       "      <th>10</th>\n",
       "      <td>South Dakota</td>\n",
       "      <td>53.13</td>\n",
       "    </tr>\n",
       "  </tbody>\n",
       "</table>\n",
       "</div>"
      ],
      "text/plain": [
       "              State  Total Score\n",
       "Rank                            \n",
       "1            Alaska        40.93\n",
       "2       Mississippi        39.77\n",
       "3          Delaware        52.33\n",
       "4          Kentucky        46.39\n",
       "5          Arkansas        42.42\n",
       "6     West Virginia        46.84\n",
       "7      Rhode Island        51.65\n",
       "8            Hawaii        47.46\n",
       "9           Vermont        57.52\n",
       "10     South Dakota        53.13"
      ]
     },
     "execution_count": 96,
     "metadata": {},
     "output_type": "execute_result"
    }
   ],
   "source": [
    "# Top 10 Worst States for overall 'Quality of life'\n",
    "worst_10_qol2 = df.sort_values(by='QualityOfLifeQualityOfLife', ascending=False).head(10)\n",
    "\n",
    "# Add a column with ranking values 1 to 10\n",
    "worst_10_qol2['Rank'] = range(1,11)\n",
    "\n",
    "# Rename the 'state' column to 'State'\n",
    "worst_10_qol2.rename(columns={'state': 'State'}, inplace=True)\n",
    "\n",
    "# Rename the 'QualityOfLifeTotalScore' column to 'Total Score'\n",
    "worst_10_qol2.rename(columns={'QualityOfLifeTotalScore': 'Total Score'}, inplace=True)\n",
    "\n",
    "# Sort the Dataframe by the newly created 'Rank' column and then by the 'State' column\n",
    "worst_10_qol2 = worst_10_qol2.sort_values(by=['Rank','State'], ascending=True)\n",
    "\n",
    "#Set the ranking as the index \n",
    "worst_10_qol2 = worst_10_qol2.set_index('Rank')\n",
    "\n",
    "# Display the Dataframe\n",
    "print(\"Top 10 states for Worst Quality of Life: (With 1 being the worst at #50)\")\n",
    "worst_10_qol2[['State', 'Total Score']]"
   ]
  },
  {
   "cell_type": "markdown",
   "id": "724965ee-dfbc-4b1d-97e3-9c1c4733605d",
   "metadata": {},
   "source": [
    "### Top 10 States with the best and worst Affordability"
   ]
  },
  {
   "cell_type": "code",
   "execution_count": null,
   "id": "1c02424a-f818-4d6d-9926-aaf4ff8e84b1",
   "metadata": {},
   "outputs": [],
   "source": [
    "# Top 10 states with the best 'Affordability' (column QualityOfLifeAffordability)\n"
   ]
  },
  {
   "cell_type": "code",
   "execution_count": null,
   "id": "f6614b26-ecd8-48a4-bf3a-313d67476092",
   "metadata": {},
   "outputs": [],
   "source": [
    "# Top 10 states with the worst 'Affordability'\n"
   ]
  },
  {
   "cell_type": "markdown",
   "id": "5369b78c-8815-4833-876f-9c94c8706ead",
   "metadata": {},
   "source": [
    "### Top 10 States with the best and worst Economy"
   ]
  },
  {
   "cell_type": "code",
   "execution_count": null,
   "id": "5b49722f-5fba-494f-a5b7-8d574864bf89",
   "metadata": {},
   "outputs": [],
   "source": [
    "# Top 10 states with the best 'Economy' (column QualityOfLifeEconomy) "
   ]
  },
  {
   "cell_type": "code",
   "execution_count": null,
   "id": "6cea8032-adec-47e7-85b2-bf2151b38044",
   "metadata": {},
   "outputs": [],
   "source": [
    "# Top 10 states with the worst 'Economy'"
   ]
  },
  {
   "cell_type": "markdown",
   "id": "43287ff8-7759-43a2-9cc5-132a9c6f44b9",
   "metadata": {},
   "source": [
    "### Top 10 States with the best and worst Education and Health"
   ]
  },
  {
   "cell_type": "code",
   "execution_count": null,
   "id": "8a2aede5-6c6d-4abd-95d1-ae6069b3ee3b",
   "metadata": {},
   "outputs": [],
   "source": [
    "# Top 10 states with the best 'Education and Health' (column QualityOfLifeEducationAndHealth)\n"
   ]
  },
  {
   "cell_type": "code",
   "execution_count": null,
   "id": "90094ba7-c669-445f-b200-7d6c1ec4496a",
   "metadata": {},
   "outputs": [],
   "source": [
    "# Top 10 states with the worst 'Education and Health'\n"
   ]
  },
  {
   "cell_type": "markdown",
   "id": "ff3d743b-6a08-4925-acf8-1b01a464fee0",
   "metadata": {},
   "source": [
    "### Top 10 States with the best and worst Safety"
   ]
  },
  {
   "cell_type": "code",
   "execution_count": null,
   "id": "583461f1-48a8-48ee-a715-991a951fa070",
   "metadata": {},
   "outputs": [],
   "source": [
    "# Top 10 states with the best 'Safety'  (column QualityOfLifeSafety)\n"
   ]
  },
  {
   "cell_type": "code",
   "execution_count": null,
   "id": "66f8cecc-f6c0-4513-a827-4c03a01cb76f",
   "metadata": {},
   "outputs": [],
   "source": [
    "# Top 10 states with the worst 'Safety'\n"
   ]
  },
  {
   "cell_type": "markdown",
   "id": "17d1cbad-cf9e-4863-8e8e-20687b3df27d",
   "metadata": {},
   "source": [
    "### Total Score"
   ]
  },
  {
   "cell_type": "markdown",
   "id": "72965561-5efd-469b-bfa4-c1500169ea70",
   "metadata": {},
   "source": [
    "#### Total score for each state based on the 'QualityOfLifeTotalScore' column"
   ]
  },
  {
   "cell_type": "code",
   "execution_count": null,
   "id": "aa95f1e1-faca-4dd4-b57c-515df43ca261",
   "metadata": {},
   "outputs": [],
   "source": [
    "# Best quality of life score, top 10 states and their score\n"
   ]
  },
  {
   "cell_type": "code",
   "execution_count": null,
   "id": "caacfcd6-8f35-4f8d-b9c1-b255a0c030a3",
   "metadata": {},
   "outputs": [],
   "source": [
    "# Worst quality of life score, top 10 states and their score.\n"
   ]
  }
 ],
 "metadata": {
  "kernelspec": {
   "display_name": "Python 3 (ipykernel)",
   "language": "python",
   "name": "python3"
  },
  "language_info": {
   "codemirror_mode": {
    "name": "ipython",
    "version": 3
   },
   "file_extension": ".py",
   "mimetype": "text/x-python",
   "name": "python",
   "nbconvert_exporter": "python",
   "pygments_lexer": "ipython3",
   "version": "3.11.8"
  }
 },
 "nbformat": 4,
 "nbformat_minor": 5
}
