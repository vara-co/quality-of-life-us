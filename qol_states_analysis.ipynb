{
 "cells": [
  {
   "cell_type": "markdown",
   "id": "e9934918-4309-4b06-a95a-5600cffb94b0",
   "metadata": {},
   "source": [
    "# Analysis | Quality of Life per US State"
   ]
  },
  {
   "cell_type": "markdown",
   "id": "11dbc0e2-7c5c-4bd8-8291-54e821fef18a",
   "metadata": {},
   "source": [
    "#### The goal of this analysis is to find some insights regarding the quality of life per state in the United States of America\n",
    "Dataset Resource: https://www.kaggle.com/datasets/msjahid/statewise-quality-of-life-index-2024"
   ]
  },
  {
   "cell_type": "code",
   "execution_count": 1,
   "id": "50320f0a-952c-4521-93c4-b90eca302751",
   "metadata": {},
   "outputs": [],
   "source": [
    "# Include this line to make plots interactive\n",
    "%matplotlib notebook"
   ]
  },
  {
   "cell_type": "code",
   "execution_count": 2,
   "id": "d13cebce-c6ce-4a0b-a11a-149ccd4fc15e",
   "metadata": {},
   "outputs": [],
   "source": [
    "# Import dependencies\n",
    "import pandas as pd\n",
    "import numpy as np\n",
    "import matplotlib.pyplot as plt\n"
   ]
  },
  {
   "cell_type": "code",
   "execution_count": 4,
   "id": "50518911-20ab-4399-a938-7383a86e02dc",
   "metadata": {},
   "outputs": [
    {
     "data": {
      "text/html": [
       "<div>\n",
       "<style scoped>\n",
       "    .dataframe tbody tr th:only-of-type {\n",
       "        vertical-align: middle;\n",
       "    }\n",
       "\n",
       "    .dataframe tbody tr th {\n",
       "        vertical-align: top;\n",
       "    }\n",
       "\n",
       "    .dataframe thead th {\n",
       "        text-align: right;\n",
       "    }\n",
       "</style>\n",
       "<table border=\"1\" class=\"dataframe\">\n",
       "  <thead>\n",
       "    <tr style=\"text-align: right;\">\n",
       "      <th></th>\n",
       "      <th>state</th>\n",
       "      <th>QualityOfLifeTotalScore</th>\n",
       "      <th>QualityOfLifeQualityOfLife</th>\n",
       "      <th>QualityOfLifeAffordability</th>\n",
       "      <th>QualityOfLifeEconomy</th>\n",
       "      <th>QualityOfLifeEducationAndHealth</th>\n",
       "      <th>QualityOfLifeSafety</th>\n",
       "    </tr>\n",
       "  </thead>\n",
       "  <tbody>\n",
       "    <tr>\n",
       "      <th>0</th>\n",
       "      <td>Alabama</td>\n",
       "      <td>45.61</td>\n",
       "      <td>40</td>\n",
       "      <td>1</td>\n",
       "      <td>40</td>\n",
       "      <td>48</td>\n",
       "      <td>32</td>\n",
       "    </tr>\n",
       "    <tr>\n",
       "      <th>1</th>\n",
       "      <td>Alaska</td>\n",
       "      <td>40.93</td>\n",
       "      <td>50</td>\n",
       "      <td>42</td>\n",
       "      <td>22</td>\n",
       "      <td>30</td>\n",
       "      <td>45</td>\n",
       "    </tr>\n",
       "    <tr>\n",
       "      <th>2</th>\n",
       "      <td>Arizona</td>\n",
       "      <td>48.31</td>\n",
       "      <td>21</td>\n",
       "      <td>25</td>\n",
       "      <td>14</td>\n",
       "      <td>39</td>\n",
       "      <td>40</td>\n",
       "    </tr>\n",
       "    <tr>\n",
       "      <th>3</th>\n",
       "      <td>Arkansas</td>\n",
       "      <td>42.42</td>\n",
       "      <td>46</td>\n",
       "      <td>4</td>\n",
       "      <td>34</td>\n",
       "      <td>45</td>\n",
       "      <td>47</td>\n",
       "    </tr>\n",
       "    <tr>\n",
       "      <th>4</th>\n",
       "      <td>California</td>\n",
       "      <td>52.03</td>\n",
       "      <td>2</td>\n",
       "      <td>50</td>\n",
       "      <td>15</td>\n",
       "      <td>24</td>\n",
       "      <td>27</td>\n",
       "    </tr>\n",
       "  </tbody>\n",
       "</table>\n",
       "</div>"
      ],
      "text/plain": [
       "        state  QualityOfLifeTotalScore  QualityOfLifeQualityOfLife  \\\n",
       "0     Alabama                    45.61                          40   \n",
       "1      Alaska                    40.93                          50   \n",
       "2     Arizona                    48.31                          21   \n",
       "3    Arkansas                    42.42                          46   \n",
       "4  California                    52.03                           2   \n",
       "\n",
       "   QualityOfLifeAffordability  QualityOfLifeEconomy  \\\n",
       "0                           1                    40   \n",
       "1                          42                    22   \n",
       "2                          25                    14   \n",
       "3                           4                    34   \n",
       "4                          50                    15   \n",
       "\n",
       "   QualityOfLifeEducationAndHealth  QualityOfLifeSafety  \n",
       "0                               48                   32  \n",
       "1                               30                   45  \n",
       "2                               39                   40  \n",
       "3                               45                   47  \n",
       "4                               24                   27  "
      ]
     },
     "execution_count": 4,
     "metadata": {},
     "output_type": "execute_result"
    }
   ],
   "source": [
    "# Read in your csv:\n",
    "df = pd.read_csv(\"Resources/qol_states_2024.csv\")  \n",
    "\n",
    "# Show dataframe first 5 row sample\n",
    "df.head()\n"
   ]
  },
  {
   "cell_type": "code",
   "execution_count": 5,
   "id": "b294d7b7-e92c-44c0-b30e-dc06d4939fd8",
   "metadata": {},
   "outputs": [
    {
     "name": "stdout",
     "output_type": "stream",
     "text": [
      "<class 'pandas.core.frame.DataFrame'>\n",
      "RangeIndex: 50 entries, 0 to 49\n",
      "Data columns (total 7 columns):\n",
      " #   Column                           Non-Null Count  Dtype  \n",
      "---  ------                           --------------  -----  \n",
      " 0   state                            50 non-null     object \n",
      " 1   QualityOfLifeTotalScore          50 non-null     float64\n",
      " 2   QualityOfLifeQualityOfLife       50 non-null     int64  \n",
      " 3   QualityOfLifeAffordability       50 non-null     int64  \n",
      " 4   QualityOfLifeEconomy             50 non-null     int64  \n",
      " 5   QualityOfLifeEducationAndHealth  50 non-null     int64  \n",
      " 6   QualityOfLifeSafety              50 non-null     int64  \n",
      "dtypes: float64(1), int64(5), object(1)\n",
      "memory usage: 2.9+ KB\n"
     ]
    }
   ],
   "source": [
    "# Show the data types and name of columns\n",
    "df.info()"
   ]
  },
  {
   "cell_type": "code",
   "execution_count": 6,
   "id": "9c8ead10-5e3f-4e18-9ab8-af2e472ba17e",
   "metadata": {},
   "outputs": [
    {
     "data": {
      "text/plain": [
       "['state',\n",
       " 'QualityOfLifeTotalScore',\n",
       " 'QualityOfLifeQualityOfLife',\n",
       " 'QualityOfLifeAffordability',\n",
       " 'QualityOfLifeEconomy',\n",
       " 'QualityOfLifeEducationAndHealth',\n",
       " 'QualityOfLifeSafety']"
      ]
     },
     "execution_count": 6,
     "metadata": {},
     "output_type": "execute_result"
    }
   ],
   "source": [
    "# Show name of columns as a list\n",
    "df.columns.to_list()"
   ]
  },
  {
   "cell_type": "code",
   "execution_count": 7,
   "id": "d53404df-f06b-40f0-b77a-64f9568ef2f4",
   "metadata": {},
   "outputs": [
    {
     "data": {
      "text/html": [
       "<div>\n",
       "<style scoped>\n",
       "    .dataframe tbody tr th:only-of-type {\n",
       "        vertical-align: middle;\n",
       "    }\n",
       "\n",
       "    .dataframe tbody tr th {\n",
       "        vertical-align: top;\n",
       "    }\n",
       "\n",
       "    .dataframe thead th {\n",
       "        text-align: right;\n",
       "    }\n",
       "</style>\n",
       "<table border=\"1\" class=\"dataframe\">\n",
       "  <thead>\n",
       "    <tr style=\"text-align: right;\">\n",
       "      <th></th>\n",
       "      <th>count</th>\n",
       "      <th>mean</th>\n",
       "      <th>std</th>\n",
       "      <th>min</th>\n",
       "      <th>25%</th>\n",
       "      <th>50%</th>\n",
       "      <th>75%</th>\n",
       "      <th>max</th>\n",
       "    </tr>\n",
       "  </thead>\n",
       "  <tbody>\n",
       "    <tr>\n",
       "      <th>QualityOfLifeTotalScore</th>\n",
       "      <td>50.0</td>\n",
       "      <td>51.8302</td>\n",
       "      <td>5.728049</td>\n",
       "      <td>39.77</td>\n",
       "      <td>48.43</td>\n",
       "      <td>52.16</td>\n",
       "      <td>56.735</td>\n",
       "      <td>62.65</td>\n",
       "    </tr>\n",
       "    <tr>\n",
       "      <th>QualityOfLifeQualityOfLife</th>\n",
       "      <td>50.0</td>\n",
       "      <td>25.5000</td>\n",
       "      <td>14.577380</td>\n",
       "      <td>1.00</td>\n",
       "      <td>13.25</td>\n",
       "      <td>25.50</td>\n",
       "      <td>37.750</td>\n",
       "      <td>50.00</td>\n",
       "    </tr>\n",
       "    <tr>\n",
       "      <th>QualityOfLifeAffordability</th>\n",
       "      <td>50.0</td>\n",
       "      <td>25.5000</td>\n",
       "      <td>14.577380</td>\n",
       "      <td>1.00</td>\n",
       "      <td>13.25</td>\n",
       "      <td>25.50</td>\n",
       "      <td>37.750</td>\n",
       "      <td>50.00</td>\n",
       "    </tr>\n",
       "    <tr>\n",
       "      <th>QualityOfLifeEconomy</th>\n",
       "      <td>50.0</td>\n",
       "      <td>25.5000</td>\n",
       "      <td>14.577380</td>\n",
       "      <td>1.00</td>\n",
       "      <td>13.25</td>\n",
       "      <td>25.50</td>\n",
       "      <td>37.750</td>\n",
       "      <td>50.00</td>\n",
       "    </tr>\n",
       "    <tr>\n",
       "      <th>QualityOfLifeEducationAndHealth</th>\n",
       "      <td>50.0</td>\n",
       "      <td>25.5000</td>\n",
       "      <td>14.577380</td>\n",
       "      <td>1.00</td>\n",
       "      <td>13.25</td>\n",
       "      <td>25.50</td>\n",
       "      <td>37.750</td>\n",
       "      <td>50.00</td>\n",
       "    </tr>\n",
       "    <tr>\n",
       "      <th>QualityOfLifeSafety</th>\n",
       "      <td>50.0</td>\n",
       "      <td>25.5000</td>\n",
       "      <td>14.577380</td>\n",
       "      <td>1.00</td>\n",
       "      <td>13.25</td>\n",
       "      <td>25.50</td>\n",
       "      <td>37.750</td>\n",
       "      <td>50.00</td>\n",
       "    </tr>\n",
       "  </tbody>\n",
       "</table>\n",
       "</div>"
      ],
      "text/plain": [
       "                                 count     mean        std    min    25%  \\\n",
       "QualityOfLifeTotalScore           50.0  51.8302   5.728049  39.77  48.43   \n",
       "QualityOfLifeQualityOfLife        50.0  25.5000  14.577380   1.00  13.25   \n",
       "QualityOfLifeAffordability        50.0  25.5000  14.577380   1.00  13.25   \n",
       "QualityOfLifeEconomy              50.0  25.5000  14.577380   1.00  13.25   \n",
       "QualityOfLifeEducationAndHealth   50.0  25.5000  14.577380   1.00  13.25   \n",
       "QualityOfLifeSafety               50.0  25.5000  14.577380   1.00  13.25   \n",
       "\n",
       "                                   50%     75%    max  \n",
       "QualityOfLifeTotalScore          52.16  56.735  62.65  \n",
       "QualityOfLifeQualityOfLife       25.50  37.750  50.00  \n",
       "QualityOfLifeAffordability       25.50  37.750  50.00  \n",
       "QualityOfLifeEconomy             25.50  37.750  50.00  \n",
       "QualityOfLifeEducationAndHealth  25.50  37.750  50.00  \n",
       "QualityOfLifeSafety              25.50  37.750  50.00  "
      ]
     },
     "execution_count": 7,
     "metadata": {},
     "output_type": "execute_result"
    }
   ],
   "source": [
    "# Show statistical information\n",
    "df.describe().T"
   ]
  },
  {
   "cell_type": "code",
   "execution_count": 9,
   "id": "8a945f07-bf7f-4b56-958a-a49f677bfb5a",
   "metadata": {},
   "outputs": [
    {
     "data": {
      "text/plain": [
       "state                              0\n",
       "QualityOfLifeTotalScore            0\n",
       "QualityOfLifeQualityOfLife         0\n",
       "QualityOfLifeAffordability         0\n",
       "QualityOfLifeEconomy               0\n",
       "QualityOfLifeEducationAndHealth    0\n",
       "QualityOfLifeSafety                0\n",
       "dtype: int64"
      ]
     },
     "execution_count": 9,
     "metadata": {},
     "output_type": "execute_result"
    }
   ],
   "source": [
    "# Find null values in each column\n",
    "df.isna().sum()"
   ]
  },
  {
   "cell_type": "code",
   "execution_count": 10,
   "id": "4ce5947e-35d8-4ddf-a43b-91207855fbfe",
   "metadata": {},
   "outputs": [
    {
     "data": {
      "text/plain": [
       "(50, 7)"
      ]
     },
     "execution_count": 10,
     "metadata": {},
     "output_type": "execute_result"
    }
   ],
   "source": [
    "# See the shape of your dataset (this is to find out if data is balanced and for correlations)\n",
    "df.shape\n"
   ]
  },
  {
   "cell_type": "code",
   "execution_count": 13,
   "id": "c575a311-72a6-4ef3-91c7-a18cf9a969af",
   "metadata": {},
   "outputs": [
    {
     "data": {
      "text/plain": [
       "50"
      ]
     },
     "execution_count": 13,
     "metadata": {},
     "output_type": "execute_result"
    }
   ],
   "source": [
    "# Get unique values of a particular column\n",
    "df['state'].nunique()\n"
   ]
  },
  {
   "cell_type": "code",
   "execution_count": 14,
   "id": "87aff8d8-35be-42c8-9da6-d057102285c1",
   "metadata": {},
   "outputs": [
    {
     "data": {
      "text/plain": [
       "array(['Alabama', 'Alaska', 'Arizona', 'Arkansas', 'California',\n",
       "       'Colorado', 'Connecticut', 'Delaware', 'Florida', 'Georgia',\n",
       "       'Hawaii', 'Idaho', 'Illinois', 'Indiana', 'Iowa', 'Kansas',\n",
       "       'Kentucky', 'Louisiana', 'Maine', 'Maryland', 'Massachusetts',\n",
       "       'Michigan', 'Minnesota', 'Mississippi', 'Missouri', 'Montana',\n",
       "       'Nebraska', 'Nevada', 'New Hampshire', 'New Jersey', 'New Mexico',\n",
       "       'New York', 'North Carolina', 'North Dakota', 'Ohio', 'Oklahoma',\n",
       "       'Oregon', 'Pennsylvania', 'Rhode Island', 'South Carolina',\n",
       "       'South Dakota', 'Tennessee', 'Texas', 'Utah', 'Vermont',\n",
       "       'Virginia', 'Washington', 'West Virginia', 'Wisconsin', 'Wyoming'],\n",
       "      dtype=object)"
      ]
     },
     "execution_count": 14,
     "metadata": {},
     "output_type": "execute_result"
    }
   ],
   "source": [
    "# Get unique values of a particular column\n",
    "df['state'].unique()"
   ]
  },
  {
   "cell_type": "code",
   "execution_count": null,
   "id": "995420fc-b583-4775-9286-0c095ec065f7",
   "metadata": {},
   "outputs": [],
   "source": []
  }
 ],
 "metadata": {
  "kernelspec": {
   "display_name": "Python 3 (ipykernel)",
   "language": "python",
   "name": "python3"
  },
  "language_info": {
   "codemirror_mode": {
    "name": "ipython",
    "version": 3
   },
   "file_extension": ".py",
   "mimetype": "text/x-python",
   "name": "python",
   "nbconvert_exporter": "python",
   "pygments_lexer": "ipython3",
   "version": "3.11.8"
  }
 },
 "nbformat": 4,
 "nbformat_minor": 5
}
